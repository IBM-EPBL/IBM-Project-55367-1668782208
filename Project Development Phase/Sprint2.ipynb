{
  "nbformat": 4,
  "nbformat_minor": 0,
  "metadata": {
    "colab": {
      "provenance": [],
      "collapsed_sections": []
    },
    "kernelspec": {
      "name": "python3",
      "display_name": "Python 3"
    },
    "language_info": {
      "name": "python"
    }
  },
  "cells": [
    {
      "cell_type": "code",
      "execution_count": 2,
      "metadata": {
        "id": "ywde17BkUaNI"
      },
      "outputs": [],
      "source": [
        "#import keras libraries\n",
        "from keras.models import Sequential\n",
        "from keras.layers import Dense\n",
        "from keras.layers import Convolution2D\n",
        "from keras.layers import MaxPooling2D\n",
        "from keras.layers import Flatten"
      ]
    },
    {
      "cell_type": "code",
      "source": [
        "#image preprocessing(or) image augmentation\n",
        "from keras.preprocessing.image import ImageDataGenerator\n"
      ],
      "metadata": {
        "id": "4UeZ2We4V6PQ"
      },
      "execution_count": 3,
      "outputs": []
    },
    {
      "cell_type": "code",
      "source": [
        "train_datagen = ImageDataGenerator(rescale=1./255,shear_range=0.2,zoom_range=0.2,horizontal_flip=True,vertical_flip=True)\n",
        "#rescale => rescaling pixel value from 0 to 255 to 0 to 1\n",
        "#shear_range=> counter clock wise rotation(anti clock)"
      ],
      "metadata": {
        "id": "b5SMOjisWDD0"
      },
      "execution_count": 4,
      "outputs": []
    },
    {
      "cell_type": "code",
      "source": [
        "test_datagen = ImageDataGenerator(rescale=1./255)"
      ],
      "metadata": {
        "id": "6dmPuWDZWIdg"
      },
      "execution_count": 5,
      "outputs": []
    },
    {
      "cell_type": "code",
      "source": [
        "x_train = train_datagen.flow_from_directory(\"/content/drive/MyDrive/IBM project/dataset/Train dataset\",target_size=(64,64),batch_size=32,class_mode=\"binary\")"
      ],
      "metadata": {
        "colab": {
          "base_uri": "https://localhost:8080/"
        },
        "id": "fGdlAQWfWQ6i",
        "outputId": "8ce29463-fca2-4f9c-d7b6-89e155063c63"
      },
      "execution_count": 6,
      "outputs": [
        {
          "output_type": "stream",
          "name": "stdout",
          "text": [
            "Found 4118 images belonging to 5 classes.\n"
          ]
        }
      ]
    },
    {
      "cell_type": "code",
      "source": [
        "x_test = test_datagen.flow_from_directory(\"/content/drive/MyDrive/IBM project/dataset/Test dataset\",target_size=(64,64),batch_size=32,class_mode=\"binary\")"
      ],
      "metadata": {
        "colab": {
          "base_uri": "https://localhost:8080/"
        },
        "id": "vSGdp596Wd1A",
        "outputId": "213eb367-574c-4105-8bb4-7a132057d110"
      },
      "execution_count": 7,
      "outputs": [
        {
          "output_type": "stream",
          "name": "stdout",
          "text": [
            "Found 929 images belonging to 3 classes.\n"
          ]
        }
      ]
    },
    {
      "cell_type": "code",
      "source": [
        "x_train.class_indices"
      ],
      "metadata": {
        "colab": {
          "base_uri": "https://localhost:8080/"
        },
        "id": "Ye1NXaOnWp_f",
        "outputId": "dc8dea20-eab2-4def-a6f0-08f2f43fde8a"
      },
      "execution_count": 8,
      "outputs": [
        {
          "output_type": "execute_result",
          "data": {
            "text/plain": [
              "{'APPLES': 0, 'BANANA': 1, 'ORANGE': 2, 'PINEAPPLE': 3, 'WATERMELON': 4}"
            ]
          },
          "metadata": {},
          "execution_count": 8
        }
      ]
    },
    {
      "cell_type": "code",
      "source": [
        "#checking the number of classes\n",
        "print(x_test.class_indices)"
      ],
      "metadata": {
        "colab": {
          "base_uri": "https://localhost:8080/"
        },
        "id": "GO0fgW9uWxT5",
        "outputId": "d17e0d11-5e04-420e-efcc-e5b53525ac15"
      },
      "execution_count": 9,
      "outputs": [
        {
          "output_type": "stream",
          "name": "stdout",
          "text": [
            "{'APPLES': 0, 'BANANA': 1, 'ORANGE': 2}\n"
          ]
        }
      ]
    },
    {
      "cell_type": "code",
      "source": [
        "from collections import Counter as c\n",
        "c(x_train .labels)"
      ],
      "metadata": {
        "colab": {
          "base_uri": "https://localhost:8080/"
        },
        "id": "24e-PkwPW3td",
        "outputId": "b5958a07-4d43-408a-d738-ae6615b3430a"
      },
      "execution_count": 10,
      "outputs": [
        {
          "output_type": "execute_result",
          "data": {
            "text/plain": [
              "Counter({0: 995, 1: 1354, 2: 1019, 3: 275, 4: 475})"
            ]
          },
          "metadata": {},
          "execution_count": 10
        }
      ]
    },
    {
      "cell_type": "code",
      "source": [
        "#Initializing the model\n",
        "model = Sequential()"
      ],
      "metadata": {
        "id": "_EZG62vjW9TM"
      },
      "execution_count": 11,
      "outputs": []
    },
    {
      "cell_type": "markdown",
      "source": [
        "Add  First convolution layer"
      ],
      "metadata": {
        "id": "dTyE8ErdXJiV"
      }
    },
    {
      "cell_type": "code",
      "source": [
        "model.add(Convolution2D(32,(3,3),input_shape=(64,64,3),activation=\"relu\"))\n",
        "# 32 indicates => no of feature detectors\n",
        "#(3,3)=> kernel size (feature detector size)"
      ],
      "metadata": {
        "id": "8fBPqGR3XCg3"
      },
      "execution_count": 12,
      "outputs": []
    },
    {
      "cell_type": "markdown",
      "source": [
        "Add max pooling layer"
      ],
      "metadata": {
        "id": "XziLOjr0XZud"
      }
    },
    {
      "cell_type": "code",
      "source": [
        "model.add(MaxPooling2D(pool_size=(2,2)))"
      ],
      "metadata": {
        "id": "klWhSTwmXeSK"
      },
      "execution_count": 13,
      "outputs": []
    },
    {
      "cell_type": "code",
      "source": [
        "#Second convolution layer and pooling\n",
        "model.add(Convolution2D(32,(3,3),activation='relu'))"
      ],
      "metadata": {
        "id": "fwY2FAofXuze"
      },
      "execution_count": 14,
      "outputs": []
    },
    {
      "cell_type": "code",
      "source": [
        "model.add(MaxPooling2D(pool_size=(2,2)))"
      ],
      "metadata": {
        "id": "SoX9U08GXx10"
      },
      "execution_count": 15,
      "outputs": []
    },
    {
      "cell_type": "code",
      "source": [
        "#Flattening the layers\n",
        "model.add(Flatten())"
      ],
      "metadata": {
        "id": "oDQrcgGlX40y"
      },
      "execution_count": 16,
      "outputs": []
    },
    {
      "cell_type": "code",
      "source": [
        "model.add(Dense(units=128,activation='relu'))"
      ],
      "metadata": {
        "id": "U1DDtTbqX9aV"
      },
      "execution_count": 17,
      "outputs": []
    },
    {
      "cell_type": "code",
      "source": [
        "model.add(Dense(units=5,activation='softmax'))"
      ],
      "metadata": {
        "id": "WVd7e2d7YCHW"
      },
      "execution_count": 18,
      "outputs": []
    },
    {
      "cell_type": "code",
      "source": [
        "# add flatten layer => input to your ANN\n",
        "model.add(Flatten())"
      ],
      "metadata": {
        "id": "wLYH2f6gYHyr"
      },
      "execution_count": 19,
      "outputs": []
    },
    {
      "cell_type": "code",
      "source": [
        "model.summary()"
      ],
      "metadata": {
        "colab": {
          "base_uri": "https://localhost:8080/"
        },
        "id": "5wzfbF6oYR34",
        "outputId": "e71eefd2-0401-47c9-b347-f4145dd813ee"
      },
      "execution_count": 20,
      "outputs": [
        {
          "output_type": "stream",
          "name": "stdout",
          "text": [
            "Model: \"sequential\"\n",
            "_________________________________________________________________\n",
            " Layer (type)                Output Shape              Param #   \n",
            "=================================================================\n",
            " conv2d (Conv2D)             (None, 62, 62, 32)        896       \n",
            "                                                                 \n",
            " max_pooling2d (MaxPooling2D  (None, 31, 31, 32)       0         \n",
            " )                                                               \n",
            "                                                                 \n",
            " conv2d_1 (Conv2D)           (None, 29, 29, 32)        9248      \n",
            "                                                                 \n",
            " max_pooling2d_1 (MaxPooling  (None, 14, 14, 32)       0         \n",
            " 2D)                                                             \n",
            "                                                                 \n",
            " flatten (Flatten)           (None, 6272)              0         \n",
            "                                                                 \n",
            " dense (Dense)               (None, 128)               802944    \n",
            "                                                                 \n",
            " dense_1 (Dense)             (None, 5)                 645       \n",
            "                                                                 \n",
            " flatten_1 (Flatten)         (None, 5)                 0         \n",
            "                                                                 \n",
            "=================================================================\n",
            "Total params: 813,733\n",
            "Trainable params: 813,733\n",
            "Non-trainable params: 0\n",
            "_________________________________________________________________\n"
          ]
        }
      ]
    },
    {
      "cell_type": "markdown",
      "source": [
        " adding dense layer"
      ],
      "metadata": {
        "id": "-qdrjAgYYdg_"
      }
    },
    {
      "cell_type": "markdown",
      "source": [
        "hidden layer"
      ],
      "metadata": {
        "id": "BDPCABJmYlHy"
      }
    },
    {
      "cell_type": "code",
      "source": [
        "model.add(Dense(units=300,kernel_initializer=\"random_uniform\",activation=\"relu\"))"
      ],
      "metadata": {
        "id": "KE4eDKDFYYV2"
      },
      "execution_count": 21,
      "outputs": []
    },
    {
      "cell_type": "code",
      "source": [
        "model.add(Dense(units=200,kernel_initializer=\"random_uniform\",activation=\"relu\"))"
      ],
      "metadata": {
        "id": "3BnnYNU6YsQJ"
      },
      "execution_count": 22,
      "outputs": []
    },
    {
      "cell_type": "markdown",
      "source": [
        "output layer"
      ],
      "metadata": {
        "id": "lZfbuZabY1PV"
      }
    },
    {
      "cell_type": "code",
      "source": [
        "model.add(Dense(units=4,kernel_initializer=\"random_uniform\",activation=\"softmax\"))\n",
        "len(x_train)"
      ],
      "metadata": {
        "colab": {
          "base_uri": "https://localhost:8080/"
        },
        "id": "yorrQHUjYw9E",
        "outputId": "3e976a72-0a69-48ad-820e-5033d05b751d"
      },
      "execution_count": 23,
      "outputs": [
        {
          "output_type": "execute_result",
          "data": {
            "text/plain": [
              "129"
            ]
          },
          "metadata": {},
          "execution_count": 23
        }
      ]
    },
    {
      "cell_type": "markdown",
      "source": [
        "Ann starts so need to add dense layers"
      ],
      "metadata": {
        "id": "BUfXVFrwZDXX"
      }
    },
    {
      "cell_type": "code",
      "source": [
        "model.add(Dense(units=128,activation=\"relu\",kernel_initializer=\"random_uniform\"))"
      ],
      "metadata": {
        "id": "hJrABx4DY-00"
      },
      "execution_count": 24,
      "outputs": []
    },
    {
      "cell_type": "code",
      "source": [
        "model.add(Dense(units=1,activation=\"sigmoid\",kernel_initializer=\"random_uniform\"))"
      ],
      "metadata": {
        "id": "OHw8IDpAZOZF"
      },
      "execution_count": 25,
      "outputs": []
    },
    {
      "cell_type": "code",
      "source": [
        "#Compile the model\n",
        "model.compile(loss=\"binary_crossentropy\",optimizer=\"adam\",metrics=['accuracy'])"
      ],
      "metadata": {
        "id": "SDVnWB7_ZXwV"
      },
      "execution_count": 26,
      "outputs": []
    },
    {
      "cell_type": "markdown",
      "source": [
        "Train the model "
      ],
      "metadata": {
        "id": "d1-gEpZJZb2M"
      }
    },
    {
      "cell_type": "code",
      "source": [
        "model.fit_generator(x_train,steps_per_epoch=len(x_train), validation_data=x_test, validation_steps=len(x_test), epochs= 20)"
      ],
      "metadata": {
        "colab": {
          "base_uri": "https://localhost:8080/"
        },
        "id": "OpFQuaowZg8F",
        "outputId": "894e4336-d0fa-4605-d1e9-288c1f676881"
      },
      "execution_count": 27,
      "outputs": [
        {
          "output_type": "stream",
          "name": "stderr",
          "text": [
            "/usr/local/lib/python3.7/dist-packages/ipykernel_launcher.py:1: UserWarning: `Model.fit_generator` is deprecated and will be removed in a future version. Please use `Model.fit`, which supports generators.\n",
            "  \"\"\"Entry point for launching an IPython kernel.\n"
          ]
        },
        {
          "output_type": "stream",
          "name": "stdout",
          "text": [
            "Epoch 1/20\n",
            "129/129 [==============================] - 1332s 10s/step - loss: -0.0925 - accuracy: 0.3286 - val_loss: 0.1051 - val_accuracy: 0.4467\n",
            "Epoch 2/20\n",
            "129/129 [==============================] - 25s 193ms/step - loss: -3.3530 - accuracy: 0.3288 - val_loss: 0.2351 - val_accuracy: 0.4467\n",
            "Epoch 3/20\n",
            "129/129 [==============================] - 25s 190ms/step - loss: -9.5979 - accuracy: 0.3288 - val_loss: 0.5638 - val_accuracy: 0.4467\n",
            "Epoch 4/20\n",
            "129/129 [==============================] - 25s 192ms/step - loss: -19.5731 - accuracy: 0.3288 - val_loss: 1.0320 - val_accuracy: 0.4467\n",
            "Epoch 5/20\n",
            "129/129 [==============================] - 25s 195ms/step - loss: -33.0191 - accuracy: 0.3288 - val_loss: 1.6377 - val_accuracy: 0.4467\n",
            "Epoch 6/20\n",
            "129/129 [==============================] - 24s 189ms/step - loss: -49.8563 - accuracy: 0.3288 - val_loss: 2.3674 - val_accuracy: 0.4467\n",
            "Epoch 7/20\n",
            "129/129 [==============================] - 24s 188ms/step - loss: -69.9660 - accuracy: 0.3288 - val_loss: 3.2217 - val_accuracy: 0.4467\n",
            "Epoch 8/20\n",
            "129/129 [==============================] - 24s 189ms/step - loss: -92.7861 - accuracy: 0.3288 - val_loss: 4.1993 - val_accuracy: 0.4467\n",
            "Epoch 9/20\n",
            "129/129 [==============================] - 24s 186ms/step - loss: -118.4589 - accuracy: 0.3288 - val_loss: 5.2767 - val_accuracy: 0.4467\n",
            "Epoch 10/20\n",
            "129/129 [==============================] - 24s 187ms/step - loss: -146.9194 - accuracy: 0.3288 - val_loss: 6.4940 - val_accuracy: 0.4467\n",
            "Epoch 11/20\n",
            "129/129 [==============================] - 25s 191ms/step - loss: -178.2165 - accuracy: 0.3288 - val_loss: 7.7792 - val_accuracy: 0.4467\n",
            "Epoch 12/20\n",
            "129/129 [==============================] - 25s 191ms/step - loss: -212.1226 - accuracy: 0.3288 - val_loss: 9.1762 - val_accuracy: 0.4467\n",
            "Epoch 13/20\n",
            "129/129 [==============================] - 25s 191ms/step - loss: -248.4954 - accuracy: 0.3288 - val_loss: 10.6854 - val_accuracy: 0.4467\n",
            "Epoch 14/20\n",
            "129/129 [==============================] - 25s 190ms/step - loss: -287.3191 - accuracy: 0.3288 - val_loss: 12.2802 - val_accuracy: 0.4467\n",
            "Epoch 15/20\n",
            "129/129 [==============================] - 25s 192ms/step - loss: -328.3279 - accuracy: 0.3288 - val_loss: 13.9571 - val_accuracy: 0.4467\n",
            "Epoch 16/20\n",
            "129/129 [==============================] - 24s 187ms/step - loss: -371.5935 - accuracy: 0.3288 - val_loss: 15.7425 - val_accuracy: 0.4467\n",
            "Epoch 17/20\n",
            "129/129 [==============================] - 24s 188ms/step - loss: -417.0529 - accuracy: 0.3288 - val_loss: 17.5812 - val_accuracy: 0.4467\n",
            "Epoch 18/20\n",
            "129/129 [==============================] - 24s 185ms/step - loss: -464.4767 - accuracy: 0.3288 - val_loss: 19.5298 - val_accuracy: 0.4467\n",
            "Epoch 19/20\n",
            "129/129 [==============================] - 25s 190ms/step - loss: -514.3580 - accuracy: 0.3288 - val_loss: 21.5543 - val_accuracy: 0.4467\n",
            "Epoch 20/20\n",
            "129/129 [==============================] - 24s 187ms/step - loss: -566.2920 - accuracy: 0.3288 - val_loss: 23.6786 - val_accuracy: 0.4467\n"
          ]
        },
        {
          "output_type": "execute_result",
          "data": {
            "text/plain": [
              "<keras.callbacks.History at 0x7fc59a02e4d0>"
            ]
          },
          "metadata": {},
          "execution_count": 27
        }
      ]
    },
    {
      "cell_type": "code",
      "source": [
        "model.save(\"nutrition.h5\")"
      ],
      "metadata": {
        "id": "Zu1fWFeVhLjX"
      },
      "execution_count": 28,
      "outputs": []
    },
    {
      "cell_type": "markdown",
      "source": [
        "Prediction the result"
      ],
      "metadata": {
        "id": "ftieyKjQhQ5x"
      }
    },
    {
      "cell_type": "code",
      "source": [
        "from tensorflow.keras.models import load_model\n",
        "from keras.preprocessing  import image\n",
        "model =load_model(\"nutrition.h5\")"
      ],
      "metadata": {
        "id": "C0x1ykN9hUuh"
      },
      "execution_count": 29,
      "outputs": []
    },
    {
      "cell_type": "code",
      "source": [
        "import numpy as np"
      ],
      "metadata": {
        "id": "67Sns8r8hZW0"
      },
      "execution_count": 30,
      "outputs": []
    },
    {
      "cell_type": "code",
      "source": [
        "from tensorflow.keras.utils import load_img\n",
        "from tensorflow.keras.utils import img_to_array\n",
        "#loading of the image\n",
        "img = load_img(r'/content/drive/MyDrive/IBM project/dataset/istockphoto-1357864202-170667a (1).jpeg', grayscale=False,target_size=(64,64))\n",
        "#image to array \n",
        "x = img_to_array(img)\n",
        "#changing the shape\n",
        "x= np.expand_dims(x,axis = 0)\n",
        "predict_x=model.predict(x)\n",
        "classes_x=np.argmax(predict_x,axis = -1)\n",
        "classes_x"
      ],
      "metadata": {
        "colab": {
          "base_uri": "https://localhost:8080/"
        },
        "id": "5YV-_KfVhdbk",
        "outputId": "b626be63-e505-4b97-9a9e-112ccd096eb4"
      },
      "execution_count": 32,
      "outputs": [
        {
          "output_type": "stream",
          "name": "stdout",
          "text": [
            "1/1 [==============================] - 0s 120ms/step\n"
          ]
        },
        {
          "output_type": "execute_result",
          "data": {
            "text/plain": [
              "array([0])"
            ]
          },
          "metadata": {},
          "execution_count": 32
        }
      ]
    },
    {
      "cell_type": "code",
      "source": [
        "index=['APPLES', 'BANANA', 'ORANGE', 'PINEAPPLE', 'WATERMELON']\n",
        "result=str(index[classes_x[0]])\n",
        "result"
      ],
      "metadata": {
        "colab": {
          "base_uri": "https://localhost:8080/",
          "height": 35
        },
        "id": "5CR8AxzIjUqE",
        "outputId": "1b2cab3e-cf9a-4738-c93c-93ace850d54d"
      },
      "execution_count": 33,
      "outputs": [
        {
          "output_type": "execute_result",
          "data": {
            "text/plain": [
              "'APPLES'"
            ],
            "application/vnd.google.colaboratory.intrinsic+json": {
              "type": "string"
            }
          },
          "metadata": {},
          "execution_count": 33
        }
      ]
    }
  ]
}